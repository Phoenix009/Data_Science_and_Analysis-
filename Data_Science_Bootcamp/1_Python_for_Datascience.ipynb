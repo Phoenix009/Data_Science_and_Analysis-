{
 "cells": [
  {
   "cell_type": "markdown",
   "metadata": {},
   "source": [
    " # Jaideep More\n",
    " ## Jaideep More\n",
    " ### Jaideep More\n",
    " #### Jaideep More"
   ]
  },
  {
   "cell_type": "code",
   "execution_count": 1,
   "metadata": {},
   "outputs": [
    {
     "name": "stdout",
     "output_type": "stream",
     "text": [
      "Hello & Welcome to Datascience Bootcamp\n"
     ]
    }
   ],
   "source": [
    "print(\"Hello & Welcome to Datascience Bootcamp\")"
   ]
  },
  {
   "cell_type": "markdown",
   "metadata": {},
   "source": [
    "## Basic DataTypes"
   ]
  },
  {
   "cell_type": "code",
   "execution_count": 2,
   "metadata": {},
   "outputs": [
    {
     "name": "stdout",
     "output_type": "stream",
     "text": [
      "32\n",
      "<class 'int'>\n"
     ]
    }
   ],
   "source": [
    "print(32)\n",
    "print(type(32))"
   ]
  },
  {
   "cell_type": "code",
   "execution_count": 3,
   "metadata": {},
   "outputs": [
    {
     "name": "stdout",
     "output_type": "stream",
     "text": [
      "32\n",
      "3.2\n",
      "Jaideep\n",
      "<class 'int'>\n",
      "<class 'float'>\n",
      "<class 'str'>\n"
     ]
    }
   ],
   "source": [
    "num1 = 32\n",
    "num2 = 3.2\n",
    "num3 = \"Jaideep\"\n",
    "print(num1)\n",
    "print(num2)\n",
    "print(num3)\n",
    "print(type(num1))\n",
    "print(type(num2))\n",
    "print(type(num3))"
   ]
  },
  {
   "cell_type": "code",
   "execution_count": 4,
   "metadata": {},
   "outputs": [
    {
     "name": "stdout",
     "output_type": "stream",
     "text": [
      "Hello World\n",
      "<class 'str'>\n"
     ]
    }
   ],
   "source": [
    "sent = \"Hello World\"\n",
    "print(sent)\n",
    "print(type(sent))"
   ]
  },
  {
   "cell_type": "code",
   "execution_count": 5,
   "metadata": {},
   "outputs": [
    {
     "name": "stdout",
     "output_type": "stream",
     "text": [
      "True\n",
      "False\n",
      "<class 'bool'>\n",
      "<class 'bool'>\n"
     ]
    }
   ],
   "source": [
    "bool1 = True\n",
    "bool2 = False\n",
    "print(bool1)\n",
    "print(bool2)\n",
    "print(type(bool1))\n",
    "print(type(bool2))"
   ]
  },
  {
   "cell_type": "code",
   "execution_count": 6,
   "metadata": {},
   "outputs": [
    {
     "name": "stdout",
     "output_type": "stream",
     "text": [
      "Enter your name : Jaideep\n"
     ]
    }
   ],
   "source": [
    "name = input(\"Enter your name : \")"
   ]
  },
  {
   "cell_type": "code",
   "execution_count": 7,
   "metadata": {},
   "outputs": [
    {
     "name": "stdout",
     "output_type": "stream",
     "text": [
      "<class 'str'>\n"
     ]
    }
   ],
   "source": [
    "print(type(name))"
   ]
  },
  {
   "cell_type": "markdown",
   "metadata": {},
   "source": [
    "## Lists"
   ]
  },
  {
   "cell_type": "code",
   "execution_count": 8,
   "metadata": {},
   "outputs": [],
   "source": [
    "list1 = [\"Jaideep\", 18, 1.70, True]"
   ]
  },
  {
   "cell_type": "code",
   "execution_count": 9,
   "metadata": {},
   "outputs": [
    {
     "name": "stdout",
     "output_type": "stream",
     "text": [
      "['Jaideep', 18, 1.7, True]\n"
     ]
    }
   ],
   "source": [
    "print(list1)"
   ]
  },
  {
   "cell_type": "code",
   "execution_count": 14,
   "metadata": {},
   "outputs": [
    {
     "name": "stdout",
     "output_type": "stream",
     "text": [
      "<class 'list'>\n"
     ]
    }
   ],
   "source": [
    "print(type(list1))"
   ]
  },
  {
   "cell_type": "code",
   "execution_count": 15,
   "metadata": {},
   "outputs": [
    {
     "name": "stdout",
     "output_type": "stream",
     "text": [
      "How many items :8\n",
      "Enter the item : qwe\n",
      "Enter the item : ry\n",
      "Enter the item : uio\n",
      "Enter the item : asd\n",
      "Enter the item : fgh\n",
      "Enter the item : jkl\n",
      "Enter the item : zxc\n",
      "Enter the item : vbn\n"
     ]
    }
   ],
   "source": [
    "shopitems = []\n",
    "nitems = int(input(\"How many items :\"))\n",
    "for i in range(nitems):\n",
    "    shopitems.append(input(\"Enter the item : \"))"
   ]
  },
  {
   "cell_type": "code",
   "execution_count": 16,
   "metadata": {},
   "outputs": [
    {
     "name": "stdout",
     "output_type": "stream",
     "text": [
      "qwe\n",
      "ry\n",
      "uio\n",
      "asd\n",
      "fgh\n",
      "jkl\n",
      "zxc\n",
      "vbn\n"
     ]
    }
   ],
   "source": [
    "for i in shopitems:\n",
    "    print(i)"
   ]
  },
  {
   "cell_type": "markdown",
   "metadata": {},
   "source": [
    "## Dictionaries"
   ]
  },
  {
   "cell_type": "code",
   "execution_count": 17,
   "metadata": {},
   "outputs": [],
   "source": [
    "dict1 = {\"Jai\": \"Acer\", \"Moksh\": \"Apple\", \"Sal\": \"Apple\"}"
   ]
  },
  {
   "cell_type": "code",
   "execution_count": 18,
   "metadata": {},
   "outputs": [
    {
     "name": "stdout",
     "output_type": "stream",
     "text": [
      "{'Sal': 'Apple', 'Jai': 'Acer', 'Moksh': 'Apple'}\n"
     ]
    }
   ],
   "source": [
    "print(dict1)"
   ]
  },
  {
   "cell_type": "code",
   "execution_count": 19,
   "metadata": {},
   "outputs": [
    {
     "name": "stdout",
     "output_type": "stream",
     "text": [
      "<class 'dict'>\n"
     ]
    }
   ],
   "source": [
    "print(type(dict1))"
   ]
  },
  {
   "cell_type": "code",
   "execution_count": 24,
   "metadata": {},
   "outputs": [
    {
     "name": "stdout",
     "output_type": "stream",
     "text": [
      "How many items :2\n",
      "Enter the name : jai\n",
      "Enter the item : asd\n",
      "Enter the name : jai\n",
      "!!Key already exists!!\n",
      "Enter the name : jai\n",
      "!!Key already exists!!\n",
      "Enter the name : jai\n",
      "!!Key already exists!!\n",
      "Enter the name : jai\n",
      "!!Key already exists!!\n",
      "Enter the name : jai\n",
      "!!Key already exists!!\n",
      "Enter the name : asd\n",
      "Enter the item : qwe\n"
     ]
    }
   ],
   "source": [
    "shopitems = {}\n",
    "nitems = int(input(\"How many items :\"))\n",
    "for i in range(nitems):\n",
    "        key = input(\"Enter the name : \")\n",
    "        while key in shopitems:\n",
    "            print(\"!!Key already exists!!\")\n",
    "            key = input(\"Enter the name : \")\n",
    "        value = input(\"Enter the item : \")\n",
    "        shopitems[key] = value"
   ]
  },
  {
   "cell_type": "code",
   "execution_count": 23,
   "metadata": {},
   "outputs": [
    {
     "name": "stdout",
     "output_type": "stream",
     "text": [
      "{'jai': 'fgh'}\n"
     ]
    }
   ],
   "source": [
    "print(shopitems)"
   ]
  },
  {
   "cell_type": "code",
   "execution_count": 27,
   "metadata": {},
   "outputs": [
    {
     "data": {
      "text/plain": [
       "dict_keys(['jai', 'asd'])"
      ]
     },
     "execution_count": 27,
     "metadata": {},
     "output_type": "execute_result"
    }
   ],
   "source": [
    "shopitems.keys()"
   ]
  },
  {
   "cell_type": "code",
   "execution_count": 28,
   "metadata": {},
   "outputs": [
    {
     "data": {
      "text/plain": [
       "dict_values(['asd', 'qwe'])"
      ]
     },
     "execution_count": 28,
     "metadata": {},
     "output_type": "execute_result"
    }
   ],
   "source": [
    "shopitems.values()"
   ]
  },
  {
   "cell_type": "markdown",
   "metadata": {},
   "source": [
    "## Conditionals"
   ]
  },
  {
   "cell_type": "code",
   "execution_count": 32,
   "metadata": {},
   "outputs": [
    {
     "name": "stdout",
     "output_type": "stream",
     "text": [
      "Enter your name : jaideep\n",
      "Enter age : 15\n",
      "!!Underage!!\n"
     ]
    }
   ],
   "source": [
    "name = input(\"Enter your name : \")\n",
    "age = int(input(\"Enter age : \"))\n",
    "if age >= 18 :\n",
    "    print(\"Welcome!\", name)\n",
    "else :\n",
    "    print(\"!!Underage!!\")"
   ]
  },
  {
   "cell_type": "code",
   "execution_count": 33,
   "metadata": {},
   "outputs": [
    {
     "name": "stdout",
     "output_type": "stream",
     "text": [
      "Enter your name : jaideep\n",
      "Enter your age : 15\n",
      "Not eligible to vote, Wait for more 3 years..\n"
     ]
    }
   ],
   "source": [
    "name = input(\"Enter your name : \")\n",
    "age = int(input(\"Enter your age : \"))\n",
    "if age< 10 :\n",
    "    print(\"Too Young\")\n",
    "elif age > 10 and age <18 :\n",
    "    print(\"Not eligible to vote, Wait for more\", 18 - age ,\"years..\")\n",
    "else :\n",
    "    print(\"Welcome\")"
   ]
  }
 ],
 "metadata": {
  "kernelspec": {
   "display_name": "Python 3",
   "language": "python",
   "name": "python3"
  },
  "language_info": {
   "codemirror_mode": {
    "name": "ipython",
    "version": 3
   },
   "file_extension": ".py",
   "mimetype": "text/x-python",
   "name": "python",
   "nbconvert_exporter": "python",
   "pygments_lexer": "ipython3",
   "version": "3.5.6"
  }
 },
 "nbformat": 4,
 "nbformat_minor": 2
}
